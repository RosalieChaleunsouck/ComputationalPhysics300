{
 "cells": [
  {
   "cell_type": "code",
   "execution_count": null,
   "metadata": {},
   "outputs": [],
   "source": [
    "#fft Assignment\n",
    "#Code: Rosalie Chaleunsouck\n",
    "\n",
    "#USING THE SAME DATA AND CODE FORMAT FROM LEC 9\n",
    "#importing necessary notebooks\n",
    "import numpy as np\n",
    "import pandas as pd\n",
    "import matplotlib.pyplot as plt\n",
    "\n",
    "#Downloading given circular data\n",
    "#Download ~3.2Mb\n",
    "data= np.loadtxt(\"circular.txt\", float)\n",
    "\n",
    "#Fourier Transformation calculation\n",
    "yf= np.fft.fft2(data)\n",
    "yf[np.abs(yf)<1000]=0\n",
    "inverse_data= np.fft.ifft2(yf)\n",
    "\n",
    "\n",
    "#Plot of the original data\n",
    "plt.imshow(data, cmap='RdBu')\n",
    "plt.colorbar()\n",
    "plt.show()\n",
    "\n",
    "#Plot of the Fourier Transformation\n",
    "plt.imshow((np.abs(yf)), cmap='RdBu')\n",
    "plt.colorbar()\n",
    "plt.show()\n",
    "\n",
    "# Plot of the Inverse Fourier Transformation\n",
    "plt.imshow((np.real(inverse_data)), cmap='RdBu')\n",
    "plt.colorbar()\n",
    "plt.show()\n",
    "\n",
    "#Redownloading data to see compression difference\n",
    "df= pd.DataFrame(inverse_data)\n",
    "df.to_csv(\"data_redownload.csv\")\n",
    "#when redownloaded- the file was seen to increase to 11.5 Mb\n",
    "#seems strange since compressions\n",
    "#YOU CAN SEE WITH FURHTER COMPRESSION THERE IS DATA LOSS"
   ]
  },
  {
   "cell_type": "code",
   "execution_count": null,
   "metadata": {},
   "outputs": [],
   "source": [
    "#importing notebook\n",
    "#This is used to calculate the discrete fourier transformation\n",
    "import numpy as np\n",
    "import pandas as pd\n",
    "import matplotlib.pyplot as plt\n",
    "from cmath import exp, pi\n",
    "\n",
    "#defining my function\n",
    "def fx(y):\n",
    "    N= len(y)\n",
    "    k= np.zeros(N, complex)\n",
    "    for i in range(N):\n",
    "        for n in range(N):\n",
    "            k[i] += y[n]*exp(-2j*pi*i*n/N)\n",
    "            \n",
    "    return k"
   ]
  },
  {
   "cell_type": "code",
   "execution_count": null,
   "metadata": {},
   "outputs": [],
   "source": [
    "#importing appropriate notebooks\n",
    "import timeit\n",
    "\n",
    "#defining the plot for the 1st y set\n",
    "y1 = np.fft.fft2(data)\n",
    "plt.title(\"Discrete Fourier Transformation\")\n",
    "plt.plot(np.abs(y1[0]))\n",
    "plt.show()\n",
    "\n",
    "#defining the plot for the 2nd y set\n",
    "y2 = fx(data[0])\n",
    "plt.plot(np.abs(y2))\n",
    "plt.show()\n",
    "\n",
    "#timing command\n",
    "%timeit fx(data[0])"
   ]
  },
  {
   "cell_type": "code",
   "execution_count": null,
   "metadata": {},
   "outputs": [],
   "source": [
    "#time it takes to perform all the loops (~400)\n",
    "\n",
    "#defining a start time\n",
    "T1 = timeit.default_timer()\n",
    "i=0\n",
    "for i in range(400):\n",
    "    y2 = fx(data[i])\n",
    "    plt.plot(np.abs(y2))\n",
    "plt.show()\n",
    "\n",
    "#defining an end time \n",
    "T2 = timeit.default_timer()\n",
    "\n",
    "T= T2-T1\n",
    "\n",
    "print( T, \" seconds\")"
   ]
  },
  {
   "cell_type": "code",
   "execution_count": null,
   "metadata": {},
   "outputs": [],
   "source": [
    "#time comparison of how long the calculation takes\n",
    "#start time\n",
    "T1 = timeit.default_timer()\n",
    "\n",
    "#defining the function and making the plot\n",
    "y1 = np.fft.fft2(data)\n",
    "plt.title(\"Fast Fourier Transformation Calculation\")\n",
    "plt.plot(np.abs(y1))\n",
    "plt.show()\n",
    "\n",
    "#end time\n",
    "T2 = timeit.default_timer()\n",
    "\n",
    "print(end - start, \" seconds\")"
   ]
  },
  {
   "cell_type": "code",
   "execution_count": null,
   "metadata": {},
   "outputs": [],
   "source": [
    "#An application of this fft is that the fft can perform calculations at a much faster rate than that of the algorithm calculation\n",
    "#The difference is quite drastic as the fft performed it in only ~1/10 of the time"
   ]
  }
 ],
 "metadata": {
  "kernelspec": {
   "display_name": "Python 3",
   "language": "python",
   "name": "python3"
  },
  "language_info": {
   "codemirror_mode": {
    "name": "ipython",
    "version": 3
   },
   "file_extension": ".py",
   "mimetype": "text/x-python",
   "name": "python",
   "nbconvert_exporter": "python",
   "pygments_lexer": "ipython3",
   "version": "3.7.4"
  }
 },
 "nbformat": 4,
 "nbformat_minor": 2
}
