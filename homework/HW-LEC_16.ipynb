{
 "cells": [
  {
   "cell_type": "code",
   "execution_count": 15,
   "metadata": {},
   "outputs": [
    {
     "name": "stdout",
     "output_type": "stream",
     "text": [
      "Minimum value of function= 0.0003955352086474201\n"
     ]
    }
   ],
   "source": [
    "#Minumum of Function\n",
    "#Code: Rosalie Chaleunsouck\n",
    "\n",
    "import numpy as np\n",
    "\n",
    "\n",
    "N=1000\n",
    "\n",
    "def f(x,y):\n",
    "    return (x**2)*1/2 + (y**2)/3 -(x*y)*1/4\n",
    "\n",
    "array=[]\n",
    "\n",
    "for i in range(N):\n",
    "    x=np.random.random()\n",
    "    y=np.random.random()\n",
    "    z= f(x,y)\n",
    "    array.append(z)\n",
    "    \n",
    "print('Minimum value of function=', min(array))"
   ]
  },
  {
   "cell_type": "code",
   "execution_count": 25,
   "metadata": {},
   "outputs": [
    {
     "name": "stdout",
     "output_type": "stream",
     "text": [
      "Minimum= 8.736926053370583e-06\n"
     ]
    }
   ],
   "source": [
    "#part b\n",
    "from scipy.optimize import minimize\n",
    "\n",
    "#using the scipy minimization application\n",
    "\n",
    "#first we define the function being used\n",
    "def f(x,y):\n",
    "    return (x**2)*1/2 + (y**2)/3 -(x*y)*1/4\n",
    "\n",
    "#setting an array for our values to go in\n",
    "z= []\n",
    "\n",
    "#Random number generation\n",
    "def Random_seq(N):\n",
    "    x_min= -4 #choosing the range for our max and min values\n",
    "    x_max= 4\n",
    "    y_min= -4\n",
    "    y_max= 4\n",
    "    for i in range(N):\n",
    "        x0=8*np.random.random()-4 \n",
    "        y0=8*np.random.random()-4 #(x0, y0)\n",
    "        res=minimize(f,x0,y0, method='nelder-mead', tol=1e-4, options={'disp': False}) #code from lecture\n",
    "        z.append(res.fun) \n",
    "        minf= min(z) #minf= f(xmin, ymin)\n",
    "\n",
    "    return minf\n",
    "\n",
    "print('Minimum=', Random_seq(1000))\n",
    "\n",
    "#here one can see that the computer generated minimum from scipy has calculated a much smaller minimum than that of the coder generated minimum above."
   ]
  },
  {
   "cell_type": "code",
   "execution_count": null,
   "metadata": {},
   "outputs": [],
   "source": [
    "\n"
   ]
  }
 ],
 "metadata": {
  "kernelspec": {
   "display_name": "Python 3",
   "language": "python",
   "name": "python3"
  },
  "language_info": {
   "codemirror_mode": {
    "name": "ipython",
    "version": 3
   },
   "file_extension": ".py",
   "mimetype": "text/x-python",
   "name": "python",
   "nbconvert_exporter": "python",
   "pygments_lexer": "ipython3",
   "version": "3.7.4"
  }
 },
 "nbformat": 4,
 "nbformat_minor": 2
}
