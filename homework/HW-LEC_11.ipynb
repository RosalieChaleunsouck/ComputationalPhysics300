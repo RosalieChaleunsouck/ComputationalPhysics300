{
 "cells": [
  {
   "cell_type": "code",
   "execution_count": null,
   "metadata": {},
   "outputs": [
    {
     "name": "stdout",
     "output_type": "stream",
     "text": [
      "value of integral (N=1): 0.6704798790339246\n",
      "Standard Deviation (N=1): 24.74312428120488\n",
      "value of integral (N=10): 0.9217986119394928\n",
      "Standard Deviation (N=10): 2.4664033506360274\n",
      "value of integral (N=100): 1.0083606148292492\n",
      "Standard Deviation (N=100): 0.2474971727187522\n",
      "value of integral (N=1000): 0.9576586587086257\n",
      "Standard Deviation (N=1000): 0.024711013551862022\n",
      "value of integral (N=10000): 0.9604697118468887\n",
      "Standard Deviation (N=10000): 0.002471368338676392\n",
      "value of integral (N=100000): 0.9632150561048727\n",
      "Standard Deviation (N=100000): 0.00024715054774381235\n",
      "value of integral (N=1000000): 0.9609901857174279\n"
     ]
    }
   ],
   "source": [
    "#Monte Carlo Assignment\n",
    "#Code: Rosalie Chaleunsouck\n",
    "#This code is to calculate the area shaded in green using the Monte Carlo method\n",
    "\n",
    "\n",
    "#importing notebooks\n",
    "import matplotlib.pyplot as plt\n",
    "import numpy as np\n",
    "import random as random\n",
    "from scipy.integrate import quad\n",
    "\n",
    "#defining the monte carlo function\n",
    "def MC(N):\n",
    "    C=0\n",
    "    for i in range(N):\n",
    "        x=1.6*random.random()\n",
    "        C += Top(x) - Bot(x)\n",
    "    \n",
    "    return C/N*1.6\n",
    "\n",
    "#Defining the function for the parabolic line\n",
    "def Top(x):\n",
    "    return np.sqrt(1-(x-1)**2)\n",
    "\n",
    "#Defining the function for the bottom log line\n",
    "def Bot(x):\n",
    "    return 2-np.sqrt(4-x**2)\n",
    "\n",
    "#calculating the error through the use of standard deviation\n",
    "def stdev(N):\n",
    "    count=0\n",
    "    p= MC(N)/2\n",
    "    for i in range(100):\n",
    "        count += np.sqrt((p*(1-p))/N)\n",
    "    avg= count/ 100\n",
    "    return (count**2)/100 - avg**2\n",
    "\n",
    "\n",
    "#defining the function for various N values\n",
    "print ('value of integral (N=1):', MC(1))\n",
    "print ('Standard Deviation (N=1):', stdev(1))\n",
    "\n",
    "print ('value of integral (N=10):', MC(10))\n",
    "print ('Standard Deviation (N=10):', stdev(10))\n",
    "\n",
    "print ('value of integral (N=100):', MC(100))\n",
    "print ('Standard Deviation (N=100):', stdev(100))\n",
    "\n",
    "print ('value of integral (N=1000):', MC(1000))\n",
    "print ('Standard Deviation (N=1000):', stdev(1000))\n",
    "\n",
    "print ('value of integral (N=10000):', MC(10000))\n",
    "print ('Standard Deviation (N=10000):', stdev(10000))\n",
    "\n",
    "print ('value of integral (N=100000):', MC(100000))\n",
    "print ('Standard Deviation (N=100000):', stdev(100000))\n",
    "\n",
    "print ('value of integral (N=1000000):', MC(1000000))\n",
    "print ('Standard Deviation (N=1000000):', stdev(1000000))\n",
    "       \n",
    "print ('value of integral (N=10000000):', MC(10000000))\n",
    "print ('Standard Deviation (N=10000000):', stdev(10000000))\n",
    "       \n",
    "print ('value of integral (N=100000000):', MC(100000000))\n",
    "print ('Standard Deviation (N=100000000):', stdev(100000000))"
   ]
  },
  {
   "cell_type": "code",
   "execution_count": null,
   "metadata": {},
   "outputs": [],
   "source": []
  }
 ],
 "metadata": {
  "kernelspec": {
   "display_name": "Python 3",
   "language": "python",
   "name": "python3"
  },
  "language_info": {
   "codemirror_mode": {
    "name": "ipython",
    "version": 3
   },
   "file_extension": ".py",
   "mimetype": "text/x-python",
   "name": "python",
   "nbconvert_exporter": "python",
   "pygments_lexer": "ipython3",
   "version": "3.7.4"
  }
 },
 "nbformat": 4,
 "nbformat_minor": 2
}
