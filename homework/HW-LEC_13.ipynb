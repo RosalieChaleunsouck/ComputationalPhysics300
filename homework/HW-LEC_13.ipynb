{
 "cells": [
  {
   "cell_type": "code",
   "execution_count": 4,
   "metadata": {},
   "outputs": [
    {
     "name": "stdout",
     "output_type": "stream",
     "text": [
      "Out of 1 million dice rolls, Double Sixes Count= 27654\n",
      "Probability of Double Sixes: 0.027654\n"
     ]
    }
   ],
   "source": [
    "#DICE ASSIGNNMENT\n",
    "#CODE: ROSALIE CHALEUNSOUCK\n",
    "\n",
    "\n",
    "#importing necessary notebooks\n",
    "import numpy as np\n",
    "import matplotlib.pyplot as plt\n",
    "\n",
    "#setting a counter that when a certain criteria is met it will count it as one event\n",
    "count=0\n",
    "#Setting the number of total events to 1 million\n",
    "N=1000000\n",
    "#defining my function with 'a' being the first dice and 'b' being the second dice\n",
    "for i in range(N):\n",
    "    a= np.random.randint(1,7,1)\n",
    "    b= np.random.randint(1,7,1)\n",
    "    if a * b == 6**2: #My criteria in how to prove a double six was rolled; originally used an addition criterion but realized that was foolish as other numbers add to 12\n",
    "        count += 1 #when the multiplication is 36- the counter will count it as an event\n",
    "\n",
    "#PRINTING THE RESULTS\n",
    "print ('Out of 1 million dice rolls, Double Sixes Count=', count) #shows the amount of times double six was counted\n",
    "print('Probability of Double Sixes:', count/N) #PART b- the probability of double sixes\n"
   ]
  },
  {
   "cell_type": "code",
   "execution_count": 22,
   "metadata": {},
   "outputs": [
    {
     "data": {
      "image/png": "[encoded data removed]",
      "text/plain": [
       "<Figure size 432x288 with 1 Axes>"
      ]
     },
     "metadata": {
      "needs_background": "light"
     },
     "output_type": "display_data"
    },
    {
     "data": {
      "image/png": "[encoded data removed]",
      "text/plain": [
       "<Figure size 432x288 with 1 Axes>"
      ]
     },
     "metadata": {
      "needs_background": "light"
     },
     "output_type": "display_data"
    }
   ],
   "source": [
    "#Part C\n",
    "#Finding the proportions for the magic series was difficult\n",
    "\n",
    "#Was not sure if this was the correct proportion\n",
    "N=9400\n",
    "a= 3136\n",
    "c= 18*18\n",
    "m= 11\n",
    "x=1\n",
    "\n",
    "#Placing the results within an array to gauge the probability\n",
    "results=[]\n",
    "\n",
    "#Defining the function as described in the lecture\n",
    "for i in range(N):\n",
    "    x= (a*x+c)%m\n",
    "    results.append (x-5)\n",
    "    \n",
    "#Plotting the results\n",
    "plt.plot(results, \"o\")\n",
    "plt.show()\n",
    "#Here you can see uniformity in the probability of chosen numbers between the range -5 to +5\n",
    "#Does not look like the example in lecture\n",
    "plt.hist(results)\n",
    "plt.show()\n",
    "#The histogram shows a higher probability of 5 being chosen in the random number generator which is odd\n",
    "#Although the chosen '5' may be that -5 and +5 have an equal chance of being chosen\n",
    "#Please let me know if this is correct"
   ]
  },
  {
   "cell_type": "code",
   "execution_count": 35,
   "metadata": {
    "scrolled": true
   },
   "outputs": [
    {
     "data": {
      "image/png": "[encoded data removed]",
      "text/plain": [
       "<Figure size 432x288 with 1 Axes>"
      ]
     },
     "metadata": {
      "needs_background": "light"
     },
     "output_type": "display_data"
    },
    {
     "data": {
      "image/png": "[encoded data removed]",
      "text/plain": [
       "<Figure size 432x288 with 1 Axes>"
      ]
     },
     "metadata": {
      "needs_background": "light"
     },
     "output_type": "display_data"
    }
   ],
   "source": [
    "N=100\n",
    "a= 1624\n",
    "c= 1012\n",
    "m= 11\n",
    "x=1\n",
    "\n",
    "#Placing the results within an array to gauge the probability\n",
    "results=[]\n",
    "\n",
    "#Defining the function as described in the lecture\n",
    "for i in range(N):\n",
    "    x= (a*x+c)%m\n",
    "    results.append (x-5)\n",
    "    \n",
    "#Plotting the results\n",
    "plt.plot(results, \"o\")\n",
    "plt.show()\n",
    "#Here we used the a, c, m values used in class\n",
    "plt.hist(results)\n",
    "plt.show()"
   ]
  }
 ],
 "metadata": {
  "kernelspec": {
   "display_name": "Python 3",
   "language": "python",
   "name": "python3"
  },
  "language_info": {
   "codemirror_mode": {
    "name": "ipython",
    "version": 3
   },
   "file_extension": ".py",
   "mimetype": "text/x-python",
   "name": "python",
   "nbconvert_exporter": "python",
   "pygments_lexer": "ipython3",
   "version": "3.7.4"
  }
 },
 "nbformat": 4,
 "nbformat_minor": 2
}
