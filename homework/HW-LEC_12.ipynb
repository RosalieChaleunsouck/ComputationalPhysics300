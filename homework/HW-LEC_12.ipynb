{
 "cells": [
  {
   "cell_type": "code",
   "execution_count": 4,
   "metadata": {},
   "outputs": [
    {
     "name": "stdout",
     "output_type": "stream",
     "text": [
      "Integral value of Integral 1 (N=1000000): 0.838685101368261\n"
     ]
    }
   ],
   "source": [
    "#MONTE CARLO ASSIGNMENT\n",
    "#CODE: ROSALIE CHALEUNSOUCK\n",
    "#DIVERGENCE PROBLEM\n",
    "\n",
    "#importing necessary notebooks\n",
    "import numpy as np\n",
    "import matplotlib.pyplot as plt\n",
    "import random as random\n",
    "from scipy.integrate import quad\n",
    "\n",
    "#defining the functions in the MC\n",
    "f= lambda x: 1/np.sqrt(x)/(np.exp(x)+1)\n",
    "w= lambda x: 1/np.sqrt(x)\n",
    "\n",
    "#defining the function FOR THE MONTE CARLO\n",
    "def IMC(N):\n",
    "    I=0\n",
    "    c= quad(w, 0, 1)[0]\n",
    "    for i in range(N):\n",
    "        x=random.random()\n",
    "        y=x**2\n",
    "        I += f(y)/ w(y)\n",
    "    return I/N*c\n",
    "\n",
    "print('Integral value of Integral 1 (N=1000000):',IMC(1000000))\n",
    "    \n"
   ]
  },
  {
   "cell_type": "code",
   "execution_count": 5,
   "metadata": {},
   "outputs": [
    {
     "name": "stdout",
     "output_type": "stream",
     "text": [
      "Integral value of Integral 2 (N=1000000): 1.0692400332514567\n"
     ]
    }
   ],
   "source": [
    "#IMPORTING NOTEBOOKS\n",
    "import numpy as np\n",
    "import matplotlib.pyplot as plt\n",
    "import random as random\n",
    "from scipy.integrate import quad\n",
    "\n",
    "#DEFINING THE SECOND FUNCTION\n",
    "f_2= lambda x: (1/x)/(np.exp(x)+1)\n",
    "w_2= lambda x: 1/x\n",
    "\n",
    "#DEFININFG THE MONTE CARLO FUNCTION\n",
    "def IMC(N):\n",
    "    I=0\n",
    "    c_2= quad(w, 0, 1)[0]\n",
    "    for i in range(N):\n",
    "        x=random.random()\n",
    "        y=0.25*((x**2)*(2*np.log(np.abs(x))-1))\n",
    "        I += f_2(y)/ w_2(y)\n",
    "    return I/N*c_2\n",
    "\n",
    "print('Integral value of Integral 2 (N=1000000):', IMC(1000000))\n",
    "    \n"
   ]
  }
 ],
 "metadata": {
  "kernelspec": {
   "display_name": "Python 3",
   "language": "python",
   "name": "python3"
  },
  "language_info": {
   "codemirror_mode": {
    "name": "ipython",
    "version": 3
   },
   "file_extension": ".py",
   "mimetype": "text/x-python",
   "name": "python",
   "nbconvert_exporter": "python",
   "pygments_lexer": "ipython3",
   "version": "3.7.4"
  }
 },
 "nbformat": 4,
 "nbformat_minor": 2
}
