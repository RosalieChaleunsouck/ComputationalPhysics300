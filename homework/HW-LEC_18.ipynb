{
 "cells": [
  {
   "cell_type": "code",
   "execution_count": 16,
   "metadata": {},
   "outputs": [
    {
     "name": "stdout",
     "output_type": "stream",
     "text": [
      "Minimum value= 5535.647453752003 found in 0.06037790000004861 seconds\n"
     ]
    }
   ],
   "source": [
    "#GLOBAL OPTIMIZATION II\n",
    "#LJ FUNCTION UP TO N=20\n",
    "#N=17 WAS CHOSEN\n",
    "\n",
    "\n",
    "import numpy as np\n",
    "from scipy.optimize import minimize\n",
    "import time\n",
    "\n",
    "def LJ(r):\n",
    "    r6=r**6\n",
    "    r12= r6*r6\n",
    "    return 4*(1/r12 -1/r6)\n",
    "\n",
    "\n",
    "def Total_Energy(x):\n",
    "    E=0\n",
    "    N=int(len(x)/3)\n",
    "    x1= np.zeros(3)\n",
    "    x2= np.zeros(3)\n",
    "\n",
    "    for i in range(N-1):\n",
    "        for j in range (i+1, N):\n",
    "            x1 = [x[i*3], x[i*3+1], x[i*3+2]]\n",
    "            x2= [x[j*3], x[j*3+1], x[j*3+2]]\n",
    "            \n",
    "            distance= np.sqrt((x1[0]-x2[0])**2+ (x1[1]-x2[1])**2+ (x1[2]-x2[2])**2)\n",
    "            \n",
    "            E+= LJ(distance)\n",
    "            \n",
    "            return E\n",
    "        \n",
    "init_pos= np.random.random_sample (17*3)\n",
    "\n",
    "T1=time.perf_counter()\n",
    "min = minimize(Total_Energy, init_pos, method='CG', tol=1e-4)\n",
    "T2=time.perf_counter()\n",
    "\n",
    "DeltaT=T2-T1\n",
    "print('Minimum value=', min.fun, 'found in', DeltaT, \"seconds\")\n",
    "\n",
    "#Minimum is too high- I am not sure how to fix this\n",
    "#This is the code for a single iteration"
   ]
  },
  {
   "cell_type": "code",
   "execution_count": 20,
   "metadata": {},
   "outputs": [
    {
     "name": "stdout",
     "output_type": "stream",
     "text": [
      "Min found at:  58.62958910745731 in:  5.00142679999999 seconds\n"
     ]
    }
   ],
   "source": [
    "\n",
    "import time\n",
    "\n",
    "\n",
    "T1 = time.perf_counter() #sandwiching the function in between two timers from beginning to end\n",
    "Values = []\n",
    "global_min=0\n",
    "N = 100\n",
    "# here we assume the global min=0\n",
    "\n",
    "for i in range(N):\n",
    "    minimum = minimize(Total_Energy, np.random.random_sample(17*3), method='CG', tol=1e-4)\n",
    "    Values.append(minimum.fun)\n",
    "    if (global_min > minimum.fun):\n",
    "        global_min=minimum.fun\n",
    "T2 = time.perf_counter()\n",
    "\n",
    "DeltaT = T2 - T1 #finding the time it takes to do calculation\n",
    "print(\"Minimum value found at: \", minimum.fun, \"in: \", DeltaT, \"seconds\")\n",
    "#printing the values obtained\n",
    "#minimum is still relatively high than the expected value\n",
    "#I am not sure what is wrong with my code\n",
    "#most time costly"
   ]
  },
  {
   "cell_type": "code",
   "execution_count": 23,
   "metadata": {},
   "outputs": [
    {
     "name": "stdout",
     "output_type": "stream",
     "text": [
      "global minimum: -0.9999999999999996 IN: 0.0003814000010606833\n"
     ]
    }
   ],
   "source": [
    "T1 = time.perf_counter()\n",
    "\n",
    "Real_Low= Values[0]\n",
    "for i in range(len(Values)):\n",
    "    if Values[i]<Real_Low:\n",
    "        Real_Low=Values[i]\n",
    "        #indicating that if the received value of i is lower than the lowest value of 0- it reestablishes the lowest value to Value[i]\n",
    "    \n",
    "T2 = time.perf_counter()\n",
    "\n",
    "DeltaT = T2 - T1 #finding the time it takes to do calculation\n",
    "\n",
    "print(\"global minimum:\", Real_Low, 'IN:', DeltaT)\n",
    "#Do not know if this is the correct value for this procedure. Do not have a real frame of reference.\n",
    "#Please let me know what I maybe did wrong here.\n",
    "#lowest time cost"
   ]
  },
  {
   "cell_type": "code",
   "execution_count": null,
   "metadata": {},
   "outputs": [],
   "source": [
    "#here you can see that the  time cost is better on the real low and first calculation \n",
    "#time in the second calculation is larger than the other two"
   ]
  }
 ],
 "metadata": {
  "kernelspec": {
   "display_name": "Python 3",
   "language": "python",
   "name": "python3"
  },
  "language_info": {
   "codemirror_mode": {
    "name": "ipython",
    "version": 3
   },
   "file_extension": ".py",
   "mimetype": "text/x-python",
   "name": "python",
   "nbconvert_exporter": "python",
   "pygments_lexer": "ipython3",
   "version": "3.7.4"
  }
 },
 "nbformat": 4,
 "nbformat_minor": 2
}
